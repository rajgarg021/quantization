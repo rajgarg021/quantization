{
 "cells": [
  {
   "cell_type": "markdown",
   "metadata": {},
   "source": [
    "https://docs.nvidia.com/deeplearning/tensorrt/tensorflow-quantization-toolkit/docs/docs/intro_to_quantization.html"
   ]
  },
  {
   "cell_type": "markdown",
   "metadata": {},
   "source": [
    "# Implementing affine (assymetric) and scale (symmetric) quantization from scratch"
   ]
  },
  {
   "cell_type": "code",
   "execution_count": 1,
   "metadata": {},
   "outputs": [],
   "source": [
    "import numpy as np"
   ]
  },
  {
   "cell_type": "markdown",
   "metadata": {},
   "source": [
    "### Creating a simple tensor with random items"
   ]
  },
  {
   "cell_type": "code",
   "execution_count": 2,
   "metadata": {},
   "outputs": [
    {
     "name": "stdout",
     "output_type": "stream",
     "text": [
      "[-10.89676688 111.20132441  28.54646861  64.08626134 -44.95071907\n",
      "  89.55659292  58.83216999 -42.60038455 129.03490232  -6.83378502\n",
      " 141.84353818 -42.28612992  98.82770315 138.28224062  17.29530148\n",
      " 119.47436199   8.19703339  42.28238139  75.6475437    8.80807161]\n"
     ]
    }
   ],
   "source": [
    "# Generate randomly distributed parameters\n",
    "params = np.random.uniform(low=-50, high=150, size=20)\n",
    "\n",
    "# Print the parameters\n",
    "print(params)"
   ]
  },
  {
   "cell_type": "markdown",
   "metadata": {},
   "source": [
    "### Defining the quantization methods"
   ]
  },
  {
   "cell_type": "code",
   "execution_count": 4,
   "metadata": {},
   "outputs": [],
   "source": [
    "def clamp(params_q: np.array, lower_bound: int, upper_bound: int) -> np.array:\n",
    "    params_q[params_q < lower_bound] = lower_bound\n",
    "    params_q[params_q > upper_bound] = upper_bound\n",
    "    return params_q\n",
    "\n",
    "def affine_quantize(params: np.array, bit_width: int) -> tuple[np.array, float, int]:\n",
    "    # Calculate the scale and zero point\n",
    "    alpha = np.max(params)\n",
    "    beta = np.min(params)\n",
    "    scale = (alpha - beta) / (2**bit_width - 1)\n",
    "    zeroPt = -1 * np.round(beta / scale)\n",
    "    lower_bound, upper_bound = 0, 2**bit_width - 1\n",
    "    # Quantize the parameters\n",
    "    quantized = clamp(np.round(params / scale + zeroPt), lower_bound, upper_bound)\n",
    "    return quantized, scale, zeroPt\n",
    "\n",
    "def affine_dequantize(params_q: np.array, scale: float, zeroPt: int) -> np.array:\n",
    "    params_q = params_q.astype(np.int32)\n",
    "    params = (params_q - zeroPt) * scale\n",
    "    params = params.astype(np.float32)\n",
    "    return params\n",
    "\n",
    "def symmetric_quantize(params: np.array, bits: int) -> tuple[np.array, float]:\n",
    "    # Calculate the scale\n",
    "    alpha = np.max(np.abs(params))\n",
    "    scale = alpha / (2**(bits-1)-1)\n",
    "    lower_bound = -2**(bits-1)\n",
    "    upper_bound = 2**(bits-1)-1\n",
    "    # Quantize the parameters\n",
    "    quantized = clamp(np.round(params / scale), lower_bound, upper_bound)\n",
    "    return quantized, scale\n",
    "\n",
    "def symmetric_dequantize(params_q: np.array, scale: float) -> np.array:\n",
    "    params_q = params_q.astype(np.int32)\n",
    "    params = params_q * scale\n",
    "    params = params.astype(np.float32)\n",
    "    return params\n",
    "\n",
    "def quantization_error(params: np.array, params_q: np.array):\n",
    "    # calculate the MSE\n",
    "    return np.mean((params - params_q)**2)"
   ]
  },
  {
   "cell_type": "markdown",
   "metadata": {},
   "source": [
    "### Quantizing the parameters to 8 bits"
   ]
  },
  {
   "cell_type": "code",
   "execution_count": 5,
   "metadata": {},
   "outputs": [
    {
     "name": "stdout",
     "output_type": "stream",
     "text": [
      "Original parameters:\n",
      "[-10.9  111.2   28.55  64.09 -44.95  89.56  58.83 -42.6  129.03  -6.83\n",
      " 141.84 -42.29  98.83 138.28  17.3  119.47   8.2   42.28  75.65   8.81]\n",
      "\n",
      "Affine scale: 0.7325264990067586, zero point: 61.0\n",
      "[ 46. 213. 100. 148.  -0. 183. 141.   3. 237.  52. 255.   3. 196. 250.\n",
      "  85. 224.  72. 119. 164.  73.]\n",
      "\n",
      "Symmetric scale: 1.1168782533835167\n",
      "[-10. 100.  26.  57. -40.  80.  53. -38. 116.  -6. 127. -38.  88. 124.\n",
      "  15. 107.   7.  38.  68.   8.]\n"
     ]
    }
   ],
   "source": [
    "(affine_q, affine_scale, affine_zero) = affine_quantize(params, 8)\n",
    "(symmetric_q, symmetric_scale) = symmetric_quantize(params, 8)\n",
    "\n",
    "print(f'Original parameters:')\n",
    "print(np.round(params, 2))\n",
    "print('')\n",
    "print(f'Affine scale: {affine_scale}, zero point: {affine_zero}')\n",
    "print(affine_q)\n",
    "print('')\n",
    "print(f'Symmetric scale: {symmetric_scale}')\n",
    "print(symmetric_q)"
   ]
  },
  {
   "cell_type": "markdown",
   "metadata": {},
   "source": [
    "### Dequantizing the parameters back to 32 bits"
   ]
  },
  {
   "cell_type": "code",
   "execution_count": 6,
   "metadata": {},
   "outputs": [
    {
     "name": "stdout",
     "output_type": "stream",
     "text": [
      "Original parameters:\n",
      "[-10.9  111.2   28.55  64.09 -44.95  89.56  58.83 -42.6  129.03  -6.83\n",
      " 141.84 -42.29  98.83 138.28  17.3  119.47   8.2   42.28  75.65   8.81]\n",
      "\n",
      "Dequantize affine:\n",
      "[-10.99 111.34  28.57  63.73 -44.68  89.37  58.6  -42.49 128.92  -6.59\n",
      " 142.11 -42.49  98.89 138.45  17.58 119.4    8.06  42.49  75.45   8.79]\n",
      "\n",
      "Dequantize symmetric:\n",
      "[-11.17 111.69  29.04  63.66 -44.68  89.35  59.19 -42.44 129.56  -6.7\n",
      " 141.84 -42.44  98.29 138.49  16.75 119.51   7.82  42.44  75.95   8.94]\n"
     ]
    }
   ],
   "source": [
    "# Dequantize the parameters back to 32 bits\n",
    "params_deq_affine = affine_dequantize(affine_q, affine_scale, affine_zero)\n",
    "params_deq_symmetric = symmetric_dequantize(symmetric_q, symmetric_scale)\n",
    "\n",
    "print(f'Original parameters:')\n",
    "print(np.round(params, 2))\n",
    "print('')\n",
    "print(f'Dequantize affine:')\n",
    "print(np.round(params_deq_affine, 2))\n",
    "print('')\n",
    "print(f'Dequantize symmetric:')\n",
    "print(np.round(params_deq_symmetric, 2))"
   ]
  },
  {
   "cell_type": "markdown",
   "metadata": {},
   "source": [
    "### Calculating the quantization error"
   ]
  },
  {
   "cell_type": "code",
   "execution_count": 7,
   "metadata": {},
   "outputs": [
    {
     "name": "stdout",
     "output_type": "stream",
     "text": [
      "      Affine error: 0.04\n",
      "   Symmetric error: 0.11\n"
     ]
    }
   ],
   "source": [
    "print(f'{\"Affine error: \":>20}{np.round(quantization_error(params, params_deq_affine), 2)}')\n",
    "print(f'{\"Symmetric error: \":>20}{np.round(quantization_error(params, params_deq_symmetric), 2)}')"
   ]
  },
  {
   "cell_type": "code",
   "execution_count": null,
   "metadata": {},
   "outputs": [],
   "source": []
  }
 ],
 "metadata": {
  "kernelspec": {
   "display_name": "dev",
   "language": "python",
   "name": "python3"
  },
  "language_info": {
   "codemirror_mode": {
    "name": "ipython",
    "version": 3
   },
   "file_extension": ".py",
   "mimetype": "text/x-python",
   "name": "python",
   "nbconvert_exporter": "python",
   "pygments_lexer": "ipython3",
   "version": "3.12.2"
  }
 },
 "nbformat": 4,
 "nbformat_minor": 2
}
